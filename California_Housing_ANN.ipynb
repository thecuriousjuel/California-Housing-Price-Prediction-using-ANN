{
 "cells": [
  {
   "cell_type": "code",
   "execution_count": 1,
   "id": "0f1a8309",
   "metadata": {},
   "outputs": [],
   "source": [
    "from sklearn.datasets import fetch_california_housing\n",
    "from sklearn.model_selection import train_test_split\n",
    "from sklearn.preprocessing import StandardScaler\n",
    "from tensorflow import keras\n",
    "from datetime import datetime\n",
    "import os"
   ]
  },
  {
   "cell_type": "code",
   "execution_count": 2,
   "id": "64145a31",
   "metadata": {},
   "outputs": [],
   "source": [
    "housing = fetch_california_housing()"
   ]
  },
  {
   "cell_type": "code",
   "execution_count": 3,
   "id": "ab6b4b0f",
   "metadata": {},
   "outputs": [
    {
     "data": {
      "text/plain": [
       "dict_keys(['data', 'target', 'frame', 'target_names', 'feature_names', 'DESCR'])"
      ]
     },
     "execution_count": 3,
     "metadata": {},
     "output_type": "execute_result"
    }
   ],
   "source": [
    "housing.keys()"
   ]
  },
  {
   "cell_type": "code",
   "execution_count": 4,
   "id": "4c434c73",
   "metadata": {},
   "outputs": [],
   "source": [
    "X_train_full, X_test, y_train_full, y_test = train_test_split(housing['data'], housing['target'],\n",
    "                                                             test_size=0.20, random_state=42)\n",
    "\n",
    "X_train, X_valid, y_train, y_valid = train_test_split(X_train_full, y_train_full,\n",
    "                                                     test_size=0.20, random_state=42)"
   ]
  },
  {
   "cell_type": "code",
   "execution_count": 5,
   "id": "32aeb905",
   "metadata": {},
   "outputs": [],
   "source": [
    "scaler = StandardScaler()\n",
    "X_train = scaler.fit_transform(X_train)\n",
    "X_valid = scaler.transform(X_valid)\n",
    "X_test = scaler.transform(X_test)\n",
    "\n",
    "target_scaler = StandardScaler()\n",
    "y_train = target_scaler.fit_transform(y_train.reshape(-1, 1))\n",
    "y_valid = target_scaler.transform(y_valid.reshape(-1, 1))\n",
    "y_test = target_scaler.transform(y_test.reshape(-1, 1))"
   ]
  },
  {
   "cell_type": "code",
   "execution_count": 6,
   "id": "e75a26b6",
   "metadata": {},
   "outputs": [
    {
     "data": {
      "text/plain": [
       "(13209, 8)"
      ]
     },
     "execution_count": 6,
     "metadata": {},
     "output_type": "execute_result"
    }
   ],
   "source": [
    "X_train.shape"
   ]
  },
  {
   "cell_type": "code",
   "execution_count": 7,
   "id": "487d2635",
   "metadata": {},
   "outputs": [],
   "source": [
    "model = keras.models.Sequential([\n",
    "    keras.layers.InputLayer(input_shape=X_train.shape[1:]),\n",
    "    keras.layers.Dense(300, activation='relu'),\n",
    "    keras.layers.Dense(500, activation='relu'),\n",
    "    keras.layers.Dense(100, activation='relu'),\n",
    "    keras.layers.Dense(1)\n",
    "])\n",
    "\n",
    "model.compile(loss='mean_absolute_error', optimizer='adam')"
   ]
  },
  {
   "cell_type": "code",
   "execution_count": 8,
   "id": "13a7005f",
   "metadata": {},
   "outputs": [
    {
     "name": "stdout",
     "output_type": "stream",
     "text": [
      "Model: \"sequential\"\n",
      "_________________________________________________________________\n",
      "Layer (type)                 Output Shape              Param #   \n",
      "=================================================================\n",
      "dense (Dense)                (None, 300)               2700      \n",
      "_________________________________________________________________\n",
      "dense_1 (Dense)              (None, 500)               150500    \n",
      "_________________________________________________________________\n",
      "dense_2 (Dense)              (None, 100)               50100     \n",
      "_________________________________________________________________\n",
      "dense_3 (Dense)              (None, 1)                 101       \n",
      "=================================================================\n",
      "Total params: 203,401\n",
      "Trainable params: 203,401\n",
      "Non-trainable params: 0\n",
      "_________________________________________________________________\n"
     ]
    }
   ],
   "source": [
    "model.summary()"
   ]
  },
  {
   "cell_type": "code",
   "execution_count": 9,
   "id": "86a90cdb",
   "metadata": {},
   "outputs": [
    {
     "data": {
      "image/png": "[encoded data removed]",
      "text/plain": [
       "<IPython.core.display.Image object>"
      ]
     },
     "execution_count": 9,
     "metadata": {},
     "output_type": "execute_result"
    }
   ],
   "source": [
    "keras.utils.plot_model(model, to_file=os.path.join('Model Images', 'model_img.png'))"
   ]
  },
  {
   "cell_type": "code",
   "execution_count": 10,
   "id": "782f3e66",
   "metadata": {},
   "outputs": [],
   "source": [
    "current_data = datetime.now().strftime(\"%d-%m-%Y_%H-%M-%S\")\n",
    "checkpoint_cb = keras.callbacks.ModelCheckpoint(os.path.join('Saved Models', f'{current_data}_model.h5'))\n",
    "early_stopping_cb = keras.callbacks.EarlyStopping(patience=5, restore_best_weights=True)"
   ]
  },
  {
   "cell_type": "code",
   "execution_count": 11,
   "id": "926976e0",
   "metadata": {
    "scrolled": false
   },
   "outputs": [
    {
     "name": "stdout",
     "output_type": "stream",
     "text": [
      "Epoch 1/100\n",
      "413/413 [==============================] - 5s 10ms/step - loss: 0.4071 - val_loss: 0.3818\n",
      "Epoch 2/100\n",
      "413/413 [==============================] - 4s 10ms/step - loss: 0.3513 - val_loss: 0.3539\n",
      "Epoch 3/100\n",
      "413/413 [==============================] - 4s 10ms/step - loss: 0.3321 - val_loss: 0.3459\n",
      "Epoch 4/100\n",
      "413/413 [==============================] - 5s 11ms/step - loss: 0.3223 - val_loss: 0.3365\n",
      "Epoch 5/100\n",
      "413/413 [==============================] - 5s 12ms/step - loss: 0.3135 - val_loss: 0.3256\n",
      "Epoch 6/100\n",
      "413/413 [==============================] - 4s 9ms/step - loss: 0.3085 - val_loss: 0.3303\n",
      "Epoch 7/100\n",
      "413/413 [==============================] - 4s 9ms/step - loss: 0.3042 - val_loss: 0.3179\n",
      "Epoch 8/100\n",
      "413/413 [==============================] - 4s 9ms/step - loss: 0.3007 - val_loss: 0.3220\n",
      "Epoch 9/100\n",
      "413/413 [==============================] - 4s 10ms/step - loss: 0.2956 - val_loss: 0.3148\n",
      "Epoch 10/100\n",
      "413/413 [==============================] - 4s 9ms/step - loss: 0.2907 - val_loss: 0.3066\n",
      "Epoch 11/100\n",
      "413/413 [==============================] - 4s 10ms/step - loss: 0.2901 - val_loss: 0.3167\n",
      "Epoch 12/100\n",
      "413/413 [==============================] - 4s 10ms/step - loss: 0.2874 - val_loss: 0.3036\n",
      "Epoch 13/100\n",
      "413/413 [==============================] - 4s 9ms/step - loss: 0.2827 - val_loss: 0.3063\n",
      "Epoch 14/100\n",
      "413/413 [==============================] - 4s 10ms/step - loss: 0.2823 - val_loss: 0.3004\n",
      "Epoch 15/100\n",
      "413/413 [==============================] - 4s 10ms/step - loss: 0.2807 - val_loss: 0.3040\n",
      "Epoch 16/100\n",
      "413/413 [==============================] - 4s 10ms/step - loss: 0.2785 - val_loss: 0.3075\n",
      "Epoch 17/100\n",
      "413/413 [==============================] - 4s 10ms/step - loss: 0.2760 - val_loss: 0.3073\n",
      "Epoch 18/100\n",
      "413/413 [==============================] - 5s 11ms/step - loss: 0.2746 - val_loss: 0.2949\n",
      "Epoch 19/100\n",
      "413/413 [==============================] - 4s 10ms/step - loss: 0.2728 - val_loss: 0.3077\n",
      "Epoch 20/100\n",
      "413/413 [==============================] - 5s 11ms/step - loss: 0.2684 - val_loss: 0.3076\n",
      "Epoch 21/100\n",
      "413/413 [==============================] - 4s 11ms/step - loss: 0.2689 - val_loss: 0.3094\n",
      "Epoch 22/100\n",
      "413/413 [==============================] - 5s 12ms/step - loss: 0.2669 - val_loss: 0.3089\n",
      "Epoch 23/100\n",
      "413/413 [==============================] - 5s 13ms/step - loss: 0.2666 - val_loss: 0.3088\n"
     ]
    }
   ],
   "source": [
    "history = model.fit(X_train, y_train, epochs=100, \n",
    "                    validation_data=(X_valid, y_valid), callbacks=[checkpoint_cb, early_stopping_cb])"
   ]
  },
  {
   "cell_type": "code",
   "execution_count": 12,
   "id": "37e32389",
   "metadata": {},
   "outputs": [
    {
     "name": "stdout",
     "output_type": "stream",
     "text": [
      "129/129 [==============================] - 1s 5ms/step - loss: 0.2882\n"
     ]
    },
    {
     "data": {
      "text/plain": [
       "0.2882494032382965"
      ]
     },
     "execution_count": 12,
     "metadata": {},
     "output_type": "execute_result"
    }
   ],
   "source": [
    "model.evaluate(X_test, y_test)"
   ]
  },
  {
   "cell_type": "code",
   "execution_count": 13,
   "id": "5400080c",
   "metadata": {},
   "outputs": [
    {
     "data": {
      "text/plain": [
       "array([[-1.4128544 ],\n",
       "       [-0.97779053],\n",
       "       [ 2.7343507 ]], dtype=float32)"
      ]
     },
     "execution_count": 13,
     "metadata": {},
     "output_type": "execute_result"
    }
   ],
   "source": [
    "model.predict(X_test[:3])"
   ]
  },
  {
   "cell_type": "code",
   "execution_count": 14,
   "id": "3ac1e808",
   "metadata": {},
   "outputs": [
    {
     "data": {
      "text/plain": [
       "array([[-1.38079066],\n",
       "       [-1.39729153],\n",
       "       [ 2.54729421]])"
      ]
     },
     "execution_count": 14,
     "metadata": {},
     "output_type": "execute_result"
    }
   ],
   "source": [
    "y_test[:3]"
   ]
  },
  {
   "cell_type": "code",
   "execution_count": null,
   "id": "fbb42463",
   "metadata": {},
   "outputs": [],
   "source": []
  }
 ],
 "metadata": {
  "kernelspec": {
   "display_name": "Python 3 (ipykernel)",
   "language": "python",
   "name": "python3"
  },
  "language_info": {
   "codemirror_mode": {
    "name": "ipython",
    "version": 3
   },
   "file_extension": ".py",
   "mimetype": "text/x-python",
   "name": "python",
   "nbconvert_exporter": "python",
   "pygments_lexer": "ipython3",
   "version": "3.9.7"
  }
 },
 "nbformat": 4,
 "nbformat_minor": 5
}
